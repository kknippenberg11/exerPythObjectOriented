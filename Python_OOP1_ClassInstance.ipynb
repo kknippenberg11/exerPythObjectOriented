{
  "cells": [
    {
      "cell_type": "markdown",
      "metadata": {
        "id": "view-in-github",
        "colab_type": "text"
      },
      "source": [
        "<a href=\"https://colab.research.google.com/github/kknippenberg11/exerPythObjectOriented/blob/master/Copy_of_Python_OOP1_ClassInstance.ipynb\" target=\"_parent\"><img src=\"https://colab.research.google.com/assets/colab-badge.svg\" alt=\"Open In Colab\"/></a>"
      ]
    },
    {
      "cell_type": "markdown",
      "id": "5580b135",
      "metadata": {
        "deletable": false,
        "editable": false,
        "nbgrader": {
          "cell_type": "markdown",
          "checksum": "7323ef52163e8b562e0d9a8c1b3d6aac",
          "grade": false,
          "grade_id": "cell-1fa00a9803e04b8b",
          "locked": true,
          "schema_version": 3,
          "solution": false,
          "task": false
        },
        "id": "5580b135"
      },
      "source": [
        "# Python OOP - Classes & Instances"
      ]
    },
    {
      "cell_type": "markdown",
      "id": "4a3a5390",
      "metadata": {
        "deletable": false,
        "editable": false,
        "nbgrader": {
          "cell_type": "markdown",
          "checksum": "e8f0ab867ab4bd647dd39c5c6b7fadf7",
          "grade": false,
          "grade_id": "cell-6f94ae788ce82371",
          "locked": true,
          "schema_version": 3,
          "solution": false,
          "task": false
        },
        "id": "4a3a5390"
      },
      "source": [
        "### Instructions\n",
        "\n",
        "* Watch the video tutorial about the os module at https://www.youtube.com/watch?v=ZDa-Z5JzLYM\n",
        "* Complete the programming exercises below as you go through the tutorial.\n",
        "* Delete or comment out the line of code in each cell which says `raise NotImplementedError()` and replace it with your own.\n",
        "* Note: Some cells may have some code provided as a starting point, however, you may need to verify the variable names in the code provided match the way the presenter has spelled his variable names. If you get an error, make sure the variable names match the variable names in the video.\n",
        "\n",
        "### Exercises"
      ]
    },
    {
      "cell_type": "markdown",
      "id": "fa06a6c2",
      "metadata": {
        "deletable": false,
        "editable": false,
        "nbgrader": {
          "cell_type": "markdown",
          "checksum": "d1fec1c20c2baf091dcc2554aa0fbf2b",
          "grade": false,
          "grade_id": "cell-9f01afc8955ef721",
          "locked": true,
          "schema_version": 3,
          "solution": false,
          "task": false
        },
        "id": "fa06a6c2"
      },
      "source": [
        "Write code in the cell below.\n",
        "\n",
        "* Create a class called `Employee`.\n",
        "* Add a `pass` statement in the class."
      ]
    },
    {
      "cell_type": "code",
      "execution_count": null,
      "id": "7c931a63",
      "metadata": {
        "deletable": false,
        "nbgrader": {
          "cell_type": "code",
          "checksum": "4c95a1a2572bf9a522d45696606cde83",
          "grade": true,
          "grade_id": "cell-3cb9b160a89bc507",
          "locked": false,
          "points": 1,
          "schema_version": 3,
          "solution": true,
          "task": false
        },
        "id": "7c931a63"
      },
      "outputs": [],
      "source": [
        "# YOUR CODE HERE\n",
        "class Employee:\n",
        "    pass"
      ]
    },
    {
      "cell_type": "markdown",
      "id": "5c2dd8ad",
      "metadata": {
        "deletable": false,
        "editable": false,
        "nbgrader": {
          "cell_type": "markdown",
          "checksum": "412fa02c604f0811b191bb1ef7d2cb39",
          "grade": false,
          "grade_id": "cell-3fa1920b87e1a57a",
          "locked": true,
          "schema_version": 3,
          "solution": false,
          "task": false
        },
        "id": "5c2dd8ad"
      },
      "source": [
        "Write code in the cell below.\n",
        "\n",
        "* Create an instance of class `Employee` called `emp_1`.\n",
        "* Create an instance of class `Employee` called `emp_2`.\n",
        "* Print the instance variables for both instances.\n",
        "* Add the following attributes to `emp_1` using separate lines of code.\n",
        "  * .first = 'Corey'\n",
        "  * .last = 'Schafer'\n",
        "  * .email = 'Corey.Schafer@company.com'\n",
        "  * .pay = 50000\n",
        "* Add the following attributes to `emp_2` using separate lines of code.\n",
        "  * .first = 'Test'\n",
        "  * .last = 'User'\n",
        "  * .email = 'Test.User@company.com'\n",
        "  * .pay = 60000\n",
        "* Print the email for `emp_1` and `emp_2`."
      ]
    },
    {
      "cell_type": "code",
      "execution_count": null,
      "id": "51f11a87",
      "metadata": {
        "deletable": false,
        "nbgrader": {
          "cell_type": "code",
          "checksum": "8c0e19d6d41e1f2f6b52c6edfbdb4fd7",
          "grade": true,
          "grade_id": "cell-2647590c66a8a312",
          "locked": false,
          "points": 3,
          "schema_version": 3,
          "solution": true,
          "task": false
        },
        "colab": {
          "base_uri": "https://localhost:8080/"
        },
        "id": "51f11a87",
        "outputId": "9362be33-1c37-4087-9b98-f11db4591d11"
      },
      "outputs": [
        {
          "output_type": "stream",
          "name": "stdout",
          "text": [
            "<__main__.Employee object at 0x7af7da0af7c0>\n",
            "<__main__.Employee object at 0x7af7da0ac3a0>\n",
            "corey.schafer@company.com\n",
            "test.user@company.com\n"
          ]
        }
      ],
      "source": [
        "# YOUR CODE HERE\n",
        "class Employee:\n",
        "    pass\n",
        "\n",
        "emp_1 = Employee()\n",
        "emp_2 = Employee()\n",
        "print(emp_1)\n",
        "print(emp_2)\n",
        "\n",
        "emp_1.firstname = \"Corey\"\n",
        "emp_1.lastname = \"Schafer\"\n",
        "emp_1.email = \"corey.schafer@company.com\"\n",
        "emp_1.pay = 50000\n",
        "\n",
        "emp_2.firstname = \"Test\"\n",
        "emp_2.lastname = \"User\"\n",
        "emp_2.email = \"test.user@company.com\"\n",
        "emp_2.pay = 60000\n",
        "\n",
        "print(emp_1.email)\n",
        "print(emp_2.email)"
      ]
    },
    {
      "cell_type": "markdown",
      "id": "a3fe2fb6",
      "metadata": {
        "deletable": false,
        "editable": false,
        "nbgrader": {
          "cell_type": "markdown",
          "checksum": "8953774b9490a6623232974273454efa",
          "grade": false,
          "grade_id": "cell-479bb39fefd610e5",
          "locked": true,
          "schema_version": 3,
          "solution": false,
          "task": false
        },
        "id": "a3fe2fb6"
      },
      "source": [
        "Write code in the cell below.\n",
        "\n",
        "* Create a class called `Employee`.\n",
        "* Add an init method.\n",
        "* Accept `first`, `last`, and `pay` in the init method.\n",
        "* Set all the instance variables in your init method.\n",
        "* Set the email using `first`, `last`, and `@company.com`."
      ]
    },
    {
      "cell_type": "code",
      "execution_count": null,
      "id": "2968735c",
      "metadata": {
        "deletable": false,
        "nbgrader": {
          "cell_type": "code",
          "checksum": "9b57e54c006649bdef74a02d1c2d9065",
          "grade": true,
          "grade_id": "cell-45ab345e38937b05",
          "locked": false,
          "points": 2,
          "schema_version": 3,
          "solution": true,
          "task": false
        },
        "id": "2968735c"
      },
      "outputs": [],
      "source": [
        "# YOUR CODE HERE\n",
        "class Employee:\n",
        "    def __init__(self, firstname, lastname, pay):\n",
        "        self.firstname = firstname\n",
        "        self.lastname = lastname\n",
        "        self.pay = pay\n",
        "        self.email = firstname + \".\" + lastname + \"@company.com\""
      ]
    },
    {
      "cell_type": "markdown",
      "id": "1ad34773",
      "metadata": {
        "deletable": false,
        "editable": false,
        "nbgrader": {
          "cell_type": "markdown",
          "checksum": "c68d421f93b35400b4b1e166fd45a2ab",
          "grade": false,
          "grade_id": "cell-064992568b084972",
          "locked": true,
          "schema_version": 3,
          "solution": false,
          "task": false
        },
        "id": "1ad34773"
      },
      "source": [
        "Write code in the cell below.\n",
        "\n",
        "* Create an instance of class `Employee` called `emp_1` and pass the input `('Corey', 'Schafer', 50000)`.\n",
        "* Create an instance of class `Employee` called `emp_2` and pass the input `('Test', 'User', 60000)`.\n",
        "* Print the email for both employees.\n",
        "* Print the full name for `emp_1`."
      ]
    },
    {
      "cell_type": "code",
      "execution_count": null,
      "id": "c9976e13",
      "metadata": {
        "deletable": false,
        "nbgrader": {
          "cell_type": "code",
          "checksum": "5607e4a88592de9eb0b979a481671d26",
          "grade": true,
          "grade_id": "cell-2bc19719477ebc4c",
          "locked": false,
          "points": 2,
          "schema_version": 3,
          "solution": true,
          "task": false
        },
        "colab": {
          "base_uri": "https://localhost:8080/"
        },
        "id": "c9976e13",
        "outputId": "a0b52963-7f90-4e23-9eea-9b99c0123351"
      },
      "outputs": [
        {
          "output_type": "stream",
          "name": "stdout",
          "text": [
            "<__main__.Employee object at 0x7af7da0ada50>\n",
            "<__main__.Employee object at 0x7af7da0afd30>\n",
            "Corey.Schafer@company.com\n",
            "Test.User@company.com\n",
            "Corey Schafer\n"
          ]
        }
      ],
      "source": [
        "# YOUR CODE HERE\n",
        "class Employee:\n",
        "    def __init__(self, firstname, lastname, pay):\n",
        "        self.firstname = firstname\n",
        "        self.lastname = lastname\n",
        "        self.pay = pay\n",
        "        self.email = firstname + \".\" + lastname + \"@company.com\"\n",
        "\n",
        "emp_1 = Employee(\"Corey\", \"Schafer\", 50000)\n",
        "emp_2 = Employee(\"Test\", \"User\", 60000)\n",
        "print(emp_1)\n",
        "print(emp_2)\n",
        "\n",
        "print(emp_1.email)\n",
        "print(emp_2.email)\n",
        "print(emp_1.firstname, emp_1.lastname)"
      ]
    },
    {
      "cell_type": "markdown",
      "id": "41afccbc",
      "metadata": {
        "deletable": false,
        "editable": false,
        "nbgrader": {
          "cell_type": "markdown",
          "checksum": "5b50a0b4ad21ba1728a1729b8f48017e",
          "grade": false,
          "grade_id": "cell-cbc2a2255f826b57",
          "locked": true,
          "schema_version": 3,
          "solution": false,
          "task": false
        },
        "id": "41afccbc"
      },
      "source": [
        "Write code in the cell below.\n",
        "\n",
        "* Copy your Employee class with all the self statements into the cell below. You're going to add a method to it.\n",
        "* Add a method called `fullname`."
      ]
    },
    {
      "cell_type": "code",
      "execution_count": null,
      "id": "e0bcd0ba",
      "metadata": {
        "deletable": false,
        "nbgrader": {
          "cell_type": "code",
          "checksum": "e37bfa50886636183f2b7c9d706e19c4",
          "grade": true,
          "grade_id": "cell-173387293667a181",
          "locked": false,
          "points": 2,
          "schema_version": 3,
          "solution": true,
          "task": false
        },
        "colab": {
          "base_uri": "https://localhost:8080/"
        },
        "id": "e0bcd0ba",
        "outputId": "a4660310-31cc-42e3-b176-63ac8d0b33a8"
      },
      "outputs": [
        {
          "output_type": "stream",
          "name": "stdout",
          "text": [
            "<__main__.Employee object at 0x7af7f5d438b0>\n",
            "<__main__.Employee object at 0x7af7f5d405e0>\n",
            "Corey.Schafer@company.com\n",
            "Test.User@company.com\n",
            "Corey Schafer\n"
          ]
        }
      ],
      "source": [
        "# YOUR CODE HERE\n",
        "class Employee:\n",
        "    def __init__(self, firstname, lastname, pay):\n",
        "        self.firstname = firstname\n",
        "        self.lastname = lastname\n",
        "        self.pay = pay\n",
        "        self.email = firstname + \".\" + lastname + \"@company.com\"\n",
        "\n",
        "    def fullname(self):\n",
        "        return \"{} {}\".format(self.firstname, self.lastname)\n"
      ]
    },
    {
      "cell_type": "markdown",
      "id": "aead4033",
      "metadata": {
        "deletable": false,
        "editable": false,
        "nbgrader": {
          "cell_type": "markdown",
          "checksum": "d80481c0c29b9aaf795633f10372a72e",
          "grade": false,
          "grade_id": "cell-f1ff113bdb790426",
          "locked": true,
          "schema_version": 3,
          "solution": false,
          "task": false
        },
        "id": "aead4033"
      },
      "source": [
        "Write code in the cell below.\n",
        "\n",
        "* Create an instance of class `Employee` called `emp_1` and pass the input `('Corey', 'Schafer', 50000)`.\n",
        "* Create an instance of class `Employee` called `emp_2` and pass the input `('Test', 'User', 60000)`.\n",
        "* Print the full name for both employees using your new method (with the parentheses).\n",
        "* Print the full name for both employees using the class and passing the instance."
      ]
    },
    {
      "cell_type": "code",
      "execution_count": null,
      "id": "b363d0ac",
      "metadata": {
        "deletable": false,
        "nbgrader": {
          "cell_type": "code",
          "checksum": "85f888973c2593c8a8463a37db55a1f5",
          "grade": true,
          "grade_id": "cell-0ab4a8f7776165df",
          "locked": false,
          "points": 2,
          "schema_version": 3,
          "solution": true,
          "task": false
        },
        "colab": {
          "base_uri": "https://localhost:8080/"
        },
        "id": "b363d0ac",
        "outputId": "b4c5008a-2319-4aff-db1b-555aa333f2b3"
      },
      "outputs": [
        {
          "output_type": "stream",
          "name": "stdout",
          "text": [
            "Corey Schafer\n",
            "Test User\n",
            "Corey Schafer\n",
            "Test User\n"
          ]
        }
      ],
      "source": [
        "# You may need to create the instances again after adding a method to your class.\n",
        "# I pasted the code here.\n",
        "class Employee:\n",
        "    def __init__(self, firstname, lastname, pay):\n",
        "        self.firstname = firstname\n",
        "        self.lastname = lastname\n",
        "        self.pay = pay\n",
        "        self.email = firstname + \".\" + lastname + \"@company.com\"\n",
        "\n",
        "    def fullname(self):\n",
        "        return \"{} {}\".format(self.firstname, self.lastname)\n",
        "\n",
        "emp_1 = Employee(\"Corey\", \"Schafer\", 50000)\n",
        "emp_2 = Employee(\"Test\", \"User\", 60000)\n",
        "\n",
        "print(emp_1.fullname())\n",
        "print(emp_2.fullname())\n",
        "\n",
        "print(Employee.fullname(emp_1))\n",
        "print(Employee.fullname(emp_2))"
      ]
    }
  ],
  "metadata": {
    "kernelspec": {
      "display_name": "Python 3",
      "language": "python",
      "name": "python3"
    },
    "language_info": {
      "codemirror_mode": {
        "name": "ipython",
        "version": 3
      },
      "file_extension": ".py",
      "mimetype": "text/x-python",
      "name": "python",
      "nbconvert_exporter": "python",
      "pygments_lexer": "ipython3",
      "version": "3.8.8"
    },
    "colab": {
      "provenance": [],
      "include_colab_link": true
    }
  },
  "nbformat": 4,
  "nbformat_minor": 5
}
